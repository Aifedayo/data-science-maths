{
 "cells": [
  {
   "cell_type": "code",
   "execution_count": 14,
   "metadata": {},
   "outputs": [],
   "source": [
    "######################################\n",
    "##           EXERCISE               ##\n",
    "######################################\n",
    "\n",
    "\"\"\"\n",
    "Use this air bnb new york city data set and remove outliers using\n",
    "percentile based on price per night for a given apartment/home.\n",
    "You can use suitable upper and lower limits on percentile based\n",
    "on your intuition. Your goal is to come up with new pandas dataframe\n",
    "that doesn't have the outliers present in it.\n",
    "\n",
    "\"\"\"\n",
    "import os # For getting the source of the file\n",
    "import pandas as pd # Data processing and reading csv files\n",
    "import numpy as np # For linear algebra\n",
    "import matplotlib.pyplot as plt\n",
    "\n",
    "\n",
    "df = pd.read_csv(\"/home/akeemlag/Downloads/archive-kaggle/AB_NYC_2019.csv\")\n",
    "\n"
   ]
  },
  {
   "cell_type": "code",
   "execution_count": 4,
   "metadata": {},
   "outputs": [
    {
     "data": {
      "text/plain": [
       "0        149\n",
       "1        225\n",
       "2        150\n",
       "3         89\n",
       "4         80\n",
       "        ... \n",
       "48890     70\n",
       "48891     40\n",
       "48892    115\n",
       "48893     55\n",
       "48894     90\n",
       "Name: price, Length: 48895, dtype: int64"
      ]
     },
     "execution_count": 4,
     "metadata": {},
     "output_type": "execute_result"
    }
   ],
   "source": [
    "df.price"
   ]
  },
  {
   "cell_type": "code",
   "execution_count": 18,
   "metadata": {},
   "outputs": [
    {
     "data": {
      "image/png": "[encoded data removed]",
      "text/plain": [
       "<Figure size 640x480 with 1 Axes>"
      ]
     },
     "metadata": {},
     "output_type": "display_data"
    }
   ],
   "source": [
    "plt.boxplot(x=df['price']);"
   ]
  },
  {
   "cell_type": "code",
   "execution_count": 27,
   "metadata": {},
   "outputs": [
    {
     "name": "stdout",
     "output_type": "stream",
     "text": [
      "<class 'pandas.core.frame.DataFrame'>\n",
      "Index: 47851 entries, 0 to 48894\n",
      "Data columns (total 16 columns):\n",
      " #   Column                          Non-Null Count  Dtype  \n",
      "---  ------                          --------------  -----  \n",
      " 0   id                              47851 non-null  int64  \n",
      " 1   name                            47835 non-null  object \n",
      " 2   host_id                         47851 non-null  int64  \n",
      " 3   host_name                       47830 non-null  object \n",
      " 4   neighbourhood_group             47851 non-null  object \n",
      " 5   neighbourhood                   47851 non-null  object \n",
      " 6   latitude                        47851 non-null  float64\n",
      " 7   longitude                       47851 non-null  float64\n",
      " 8   room_type                       47851 non-null  object \n",
      " 9   price                           47851 non-null  int64  \n",
      " 10  minimum_nights                  47851 non-null  int64  \n",
      " 11  number_of_reviews               47851 non-null  int64  \n",
      " 12  last_review                     38221 non-null  object \n",
      " 13  reviews_per_month               38221 non-null  float64\n",
      " 14  calculated_host_listings_count  47851 non-null  int64  \n",
      " 15  availability_365                47851 non-null  int64  \n",
      "dtypes: float64(3), int64(7), object(6)\n",
      "memory usage: 6.2+ MB\n"
     ]
    }
   ],
   "source": [
    "# Create a mask\n",
    "df_mask = df[df[\"price\"] <= 500]\n",
    "\n",
    "df_mask.info()"
   ]
  },
  {
   "cell_type": "code",
   "execution_count": 28,
   "metadata": {},
   "outputs": [
    {
     "data": {
      "text/plain": [
       "{'whiskers': [<matplotlib.lines.Line2D at 0x7682b0834050>,\n",
       "  <matplotlib.lines.Line2D at 0x7682b0834380>],\n",
       " 'caps': [<matplotlib.lines.Line2D at 0x7682b09e5be0>,\n",
       "  <matplotlib.lines.Line2D at 0x7682b09c05c0>],\n",
       " 'boxes': [<matplotlib.lines.Line2D at 0x7682b080bd40>],\n",
       " 'medians': [<matplotlib.lines.Line2D at 0x7682b097e570>],\n",
       " 'fliers': [<matplotlib.lines.Line2D at 0x7682b08344d0>],\n",
       " 'means': []}"
      ]
     },
     "execution_count": 28,
     "metadata": {},
     "output_type": "execute_result"
    },
    {
     "data": {
      "image/png": "[encoded data removed]",
      "text/plain": [
       "<Figure size 640x480 with 1 Axes>"
      ]
     },
     "metadata": {},
     "output_type": "display_data"
    }
   ],
   "source": [
    "plt.boxplot(x=df_mask[\"price\"])"
   ]
  },
  {
   "cell_type": "code",
   "execution_count": 46,
   "metadata": {},
   "outputs": [
    {
     "name": "stdout",
     "output_type": "stream",
     "text": [
      "<class 'pandas.core.frame.DataFrame'>\n",
      "Index: 41352 entries, 0 to 48894\n",
      "Data columns (total 16 columns):\n",
      " #   Column                          Non-Null Count  Dtype  \n",
      "---  ------                          --------------  -----  \n",
      " 0   id                              41352 non-null  int64  \n",
      " 1   name                            41339 non-null  object \n",
      " 2   host_id                         41352 non-null  int64  \n",
      " 3   host_name                       41332 non-null  object \n",
      " 4   neighbourhood_group             41352 non-null  object \n",
      " 5   neighbourhood                   41352 non-null  object \n",
      " 6   latitude                        41352 non-null  float64\n",
      " 7   longitude                       41352 non-null  float64\n",
      " 8   room_type                       41352 non-null  object \n",
      " 9   price                           41352 non-null  int64  \n",
      " 10  minimum_nights                  41352 non-null  int64  \n",
      " 11  number_of_reviews               41352 non-null  int64  \n",
      " 12  last_review                     33579 non-null  object \n",
      " 13  reviews_per_month               33579 non-null  float64\n",
      " 14  calculated_host_listings_count  41352 non-null  int64  \n",
      " 15  availability_365                41352 non-null  int64  \n",
      "dtypes: float64(3), int64(7), object(6)\n",
      "memory usage: 5.4+ MB\n"
     ]
    }
   ],
   "source": [
    "# Reduce it using percentile\n",
    "\n",
    "df_percentile = df[df[\"price\"] < df[\"price\"].quantile(.85)]\n",
    "\n",
    "df_percentile.info()"
   ]
  },
  {
   "cell_type": "code",
   "execution_count": 47,
   "metadata": {},
   "outputs": [
    {
     "data": {
      "text/plain": [
       "(array([ 109., 3214., 8516., 7038., 6620., 4354., 4424., 2658., 3586.,\n",
       "         833.]),\n",
       " array([  0. ,  22.4,  44.8,  67.2,  89.6, 112. , 134.4, 156.8, 179.2,\n",
       "        201.6, 224. ]),\n",
       " <BarContainer object of 10 artists>)"
      ]
     },
     "execution_count": 47,
     "metadata": {},
     "output_type": "execute_result"
    },
    {
     "data": {
      "image/png": "[encoded data removed]",
      "text/plain": [
       "<Figure size 640x480 with 1 Axes>"
      ]
     },
     "metadata": {},
     "output_type": "display_data"
    }
   ],
   "source": [
    "plt.hist(x=df_percentile[\"price\"])"
   ]
  },
  {
   "cell_type": "code",
   "execution_count": 48,
   "metadata": {},
   "outputs": [
    {
     "data": {
      "text/plain": [
       "count    48895.000000\n",
       "mean       152.720687\n",
       "std        240.154170\n",
       "min          0.000000\n",
       "25%         69.000000\n",
       "50%        106.000000\n",
       "75%        175.000000\n",
       "max      10000.000000\n",
       "Name: price, dtype: float64"
      ]
     },
     "execution_count": 48,
     "metadata": {},
     "output_type": "execute_result"
    }
   ],
   "source": [
    "# Using describe method\n",
    "df.price.describe()"
   ]
  },
  {
   "cell_type": "code",
   "execution_count": 49,
   "metadata": {},
   "outputs": [
    {
     "data": {
      "text/plain": [
       "(30.0, 3000.0)"
      ]
     },
     "execution_count": 49,
     "metadata": {},
     "output_type": "execute_result"
    }
   ],
   "source": [
    "# Create a min threshold and max_threshold\n",
    "min_threshold, max_threshold = df[\"price\"].quantile([0.01, 0.999])\n",
    "min_threshold, max_threshold"
   ]
  },
  {
   "cell_type": "code",
   "execution_count": 51,
   "metadata": {},
   "outputs": [
    {
     "data": {
      "text/plain": [
       "(48183, 16)"
      ]
     },
     "execution_count": 51,
     "metadata": {},
     "output_type": "execute_result"
    }
   ],
   "source": [
    "# Create a dataframe from your min and max threshold\n",
    "\n",
    "df_mask = df[(df[\"price\"] > min_threshold) & (df[\"price\"] < max_threshold)]\n",
    "\n",
    "df_mask.shape"
   ]
  },
  {
   "cell_type": "code",
   "execution_count": 52,
   "metadata": {},
   "outputs": [
    {
     "data": {
      "text/html": [
       "<div>\n",
       "<style scoped>\n",
       "    .dataframe tbody tr th:only-of-type {\n",
       "        vertical-align: middle;\n",
       "    }\n",
       "\n",
       "    .dataframe tbody tr th {\n",
       "        vertical-align: top;\n",
       "    }\n",
       "\n",
       "    .dataframe thead th {\n",
       "        text-align: right;\n",
       "    }\n",
       "</style>\n",
       "<table border=\"1\" class=\"dataframe\">\n",
       "  <thead>\n",
       "    <tr style=\"text-align: right;\">\n",
       "      <th></th>\n",
       "      <th>id</th>\n",
       "      <th>name</th>\n",
       "      <th>host_id</th>\n",
       "      <th>host_name</th>\n",
       "      <th>neighbourhood_group</th>\n",
       "      <th>neighbourhood</th>\n",
       "      <th>latitude</th>\n",
       "      <th>longitude</th>\n",
       "      <th>room_type</th>\n",
       "      <th>price</th>\n",
       "      <th>minimum_nights</th>\n",
       "      <th>number_of_reviews</th>\n",
       "      <th>last_review</th>\n",
       "      <th>reviews_per_month</th>\n",
       "      <th>calculated_host_listings_count</th>\n",
       "      <th>availability_365</th>\n",
       "    </tr>\n",
       "  </thead>\n",
       "  <tbody>\n",
       "    <tr>\n",
       "      <th>10379</th>\n",
       "      <td>7950368</td>\n",
       "      <td>Williamsburg Bedford Ave L Train</td>\n",
       "      <td>1696218</td>\n",
       "      <td>David</td>\n",
       "      <td>Brooklyn</td>\n",
       "      <td>Williamsburg</td>\n",
       "      <td>40.71870</td>\n",
       "      <td>-73.95606</td>\n",
       "      <td>Entire home/apt</td>\n",
       "      <td>500</td>\n",
       "      <td>26</td>\n",
       "      <td>9</td>\n",
       "      <td>2018-02-25</td>\n",
       "      <td>0.19</td>\n",
       "      <td>1</td>\n",
       "      <td>178</td>\n",
       "    </tr>\n",
       "    <tr>\n",
       "      <th>17684</th>\n",
       "      <td>13891485</td>\n",
       "      <td>Hanover Square Lux Downtown 1 Bd(C) Serviced Apt</td>\n",
       "      <td>22541573</td>\n",
       "      <td>Ken</td>\n",
       "      <td>Manhattan</td>\n",
       "      <td>Financial District</td>\n",
       "      <td>40.70358</td>\n",
       "      <td>-74.00854</td>\n",
       "      <td>Entire home/apt</td>\n",
       "      <td>270</td>\n",
       "      <td>30</td>\n",
       "      <td>0</td>\n",
       "      <td>NaN</td>\n",
       "      <td>NaN</td>\n",
       "      <td>87</td>\n",
       "      <td>190</td>\n",
       "    </tr>\n",
       "    <tr>\n",
       "      <th>43149</th>\n",
       "      <td>33474092</td>\n",
       "      <td>1 Bedroom, Pvt Living Space &amp; Bath- Till May 30th</td>\n",
       "      <td>13206448</td>\n",
       "      <td>Ruchi</td>\n",
       "      <td>Manhattan</td>\n",
       "      <td>Upper West Side</td>\n",
       "      <td>40.79908</td>\n",
       "      <td>-73.96465</td>\n",
       "      <td>Private room</td>\n",
       "      <td>50</td>\n",
       "      <td>7</td>\n",
       "      <td>2</td>\n",
       "      <td>2019-05-24</td>\n",
       "      <td>0.60</td>\n",
       "      <td>1</td>\n",
       "      <td>283</td>\n",
       "    </tr>\n",
       "    <tr>\n",
       "      <th>17024</th>\n",
       "      <td>13525308</td>\n",
       "      <td>Spacious Brooklyn Apt near F/G train</td>\n",
       "      <td>50995154</td>\n",
       "      <td>Bev</td>\n",
       "      <td>Brooklyn</td>\n",
       "      <td>Kensington</td>\n",
       "      <td>40.64277</td>\n",
       "      <td>-73.97440</td>\n",
       "      <td>Entire home/apt</td>\n",
       "      <td>95</td>\n",
       "      <td>2</td>\n",
       "      <td>11</td>\n",
       "      <td>2019-04-15</td>\n",
       "      <td>0.30</td>\n",
       "      <td>1</td>\n",
       "      <td>0</td>\n",
       "    </tr>\n",
       "    <tr>\n",
       "      <th>36354</th>\n",
       "      <td>28918134</td>\n",
       "      <td>Basement Room with Window</td>\n",
       "      <td>35927005</td>\n",
       "      <td>Kathy</td>\n",
       "      <td>Brooklyn</td>\n",
       "      <td>Borough Park</td>\n",
       "      <td>40.63525</td>\n",
       "      <td>-74.00724</td>\n",
       "      <td>Private room</td>\n",
       "      <td>48</td>\n",
       "      <td>1</td>\n",
       "      <td>0</td>\n",
       "      <td>NaN</td>\n",
       "      <td>NaN</td>\n",
       "      <td>10</td>\n",
       "      <td>365</td>\n",
       "    </tr>\n",
       "  </tbody>\n",
       "</table>\n",
       "</div>"
      ],
      "text/plain": [
       "             id                                               name   host_id  \\\n",
       "10379   7950368                   Williamsburg Bedford Ave L Train   1696218   \n",
       "17684  13891485   Hanover Square Lux Downtown 1 Bd(C) Serviced Apt  22541573   \n",
       "43149  33474092  1 Bedroom, Pvt Living Space & Bath- Till May 30th  13206448   \n",
       "17024  13525308               Spacious Brooklyn Apt near F/G train  50995154   \n",
       "36354  28918134                          Basement Room with Window  35927005   \n",
       "\n",
       "      host_name neighbourhood_group       neighbourhood  latitude  longitude  \\\n",
       "10379     David            Brooklyn        Williamsburg  40.71870  -73.95606   \n",
       "17684       Ken           Manhattan  Financial District  40.70358  -74.00854   \n",
       "43149     Ruchi           Manhattan     Upper West Side  40.79908  -73.96465   \n",
       "17024       Bev            Brooklyn          Kensington  40.64277  -73.97440   \n",
       "36354     Kathy            Brooklyn        Borough Park  40.63525  -74.00724   \n",
       "\n",
       "             room_type  price  minimum_nights  number_of_reviews last_review  \\\n",
       "10379  Entire home/apt    500              26                  9  2018-02-25   \n",
       "17684  Entire home/apt    270              30                  0         NaN   \n",
       "43149     Private room     50               7                  2  2019-05-24   \n",
       "17024  Entire home/apt     95               2                 11  2019-04-15   \n",
       "36354     Private room     48               1                  0         NaN   \n",
       "\n",
       "       reviews_per_month  calculated_host_listings_count  availability_365  \n",
       "10379               0.19                               1               178  \n",
       "17684                NaN                              87               190  \n",
       "43149               0.60                               1               283  \n",
       "17024               0.30                               1                 0  \n",
       "36354                NaN                              10               365  "
      ]
     },
     "execution_count": 52,
     "metadata": {},
     "output_type": "execute_result"
    }
   ],
   "source": [
    "# Generate a random sample\n",
    "df.sample(5)"
   ]
  },
  {
   "cell_type": "code",
   "execution_count": 54,
   "metadata": {},
   "outputs": [
    {
     "data": {
      "text/plain": [
       "count    48183.000000\n",
       "mean       148.772036\n",
       "std        153.594795\n",
       "min         31.000000\n",
       "25%         70.000000\n",
       "50%        110.000000\n",
       "75%        179.000000\n",
       "max       2999.000000\n",
       "Name: price, dtype: float64"
      ]
     },
     "execution_count": 54,
     "metadata": {},
     "output_type": "execute_result"
    }
   ],
   "source": [
    "# Use the describe method\n",
    "\n",
    "df_mask.price.describe()"
   ]
  },
  {
   "cell_type": "code",
   "execution_count": null,
   "metadata": {},
   "outputs": [],
   "source": []
  }
 ],
 "metadata": {
  "kernelspec": {
   "display_name": "Python 3",
   "language": "python",
   "name": "python3"
  },
  "language_info": {
   "codemirror_mode": {
    "name": "ipython",
    "version": 3
   },
   "file_extension": ".py",
   "mimetype": "text/x-python",
   "name": "python",
   "nbconvert_exporter": "python",
   "pygments_lexer": "ipython3",
   "version": "3.12.3"
  }
 },
 "nbformat": 4,
 "nbformat_minor": 2
}
